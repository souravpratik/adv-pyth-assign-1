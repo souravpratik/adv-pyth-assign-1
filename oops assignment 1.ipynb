{
 "cells": [
  {
   "cell_type": "markdown",
   "id": "5f805001",
   "metadata": {},
   "source": [
    "# ASSIGNMENT 1: (PYTHON ADVANCED)"
   ]
  },
  {
   "cell_type": "raw",
   "id": "bedb2caa",
   "metadata": {},
   "source": [
    "Question 1: What is the purpose of Python's OOP?\n",
    "\n",
    "solution: - In Python, object-oriented Programming (OOPs) is a programming method that uses objects and classes in programming.           - It aims to implement real-world entities like inheritance, polymorphisms, encapsulation, etc. in the programming.\n",
    "          - It promotes reusability of codes."
   ]
  },
  {
   "cell_type": "raw",
   "id": "7a7839e6",
   "metadata": {},
   "source": [
    "QUESTION 2: Where does an inheritance search look for an attribute?\n",
    "solution :  Inheritance search is simply a search of the tree from bottom to top looking for the lowest occurrence of an                   attribute name."
   ]
  },
  {
   "cell_type": "raw",
   "id": "463dff0f",
   "metadata": {},
   "source": [
    "QUESTION 3: How do you distinguish between a class object and an instance object?\n",
    "solution : - A class object is a template for creating objects in program whereas the instance object is an instance of a                    class.\n",
    "           - A class is a logical entity while object is a physical entity.\n",
    "           - A class does not allocate memory space on the other hand object allocates memory space.\n",
    "           - we can declare class only once but can create more than one object using a class.\n",
    "           - Classes can't be manipulated while objects can be manipulated."
   ]
  },
  {
   "cell_type": "raw",
   "id": "51d55744",
   "metadata": {},
   "source": [
    "QUESTION 4: What makes the first argument in a class’s method function special?\n",
    "solution :  The first argument of every class method, including init, is always a reference to the current instance of the                 class and behaves as a pointer."
   ]
  },
  {
   "cell_type": "raw",
   "id": "dbe958b3",
   "metadata": {},
   "source": [
    "QUESTION 5: What is the purpose of the __init__ method?\n",
    "solution :  The __init__ method lets the class initialize the object's attributes and serves no other purpose. It is only used             within classes."
   ]
  },
  {
   "cell_type": "raw",
   "id": "6ac334f7",
   "metadata": {},
   "source": [
    "QUESTION 6: What is the process for creating a class instance?\n",
    "solution :  The __init__() is a method, which is called class constructor or initialization method that Python calls                       when we create a new instance of this class. You declare other class methods like normal functions with the                     exception that the first argument to each method is self."
   ]
  },
  {
   "cell_type": "raw",
   "id": "1ad84ba9",
   "metadata": {},
   "source": [
    "QUESTION 7: What is the process for creating a class?\n",
    "solution :  In Python, a class can be created by using the keyword 'class', followed by the class name.\n",
    "            "
   ]
  },
  {
   "cell_type": "raw",
   "id": "f5ff535d",
   "metadata": {},
   "source": [
    "QUESTION 8: How would you define the superclasses of a class?\n",
    "solution :  A superclass is the class from which many subclasses can be created. The subclasses inherit the characteristics of             a superclass. The superclass is also known as the parent class or base class."
   ]
  }
 ],
 "metadata": {
  "kernelspec": {
   "display_name": "Python 3 (ipykernel)",
   "language": "python",
   "name": "python3"
  },
  "language_info": {
   "codemirror_mode": {
    "name": "ipython",
    "version": 3
   },
   "file_extension": ".py",
   "mimetype": "text/x-python",
   "name": "python",
   "nbconvert_exporter": "python",
   "pygments_lexer": "ipython3",
   "version": "3.9.7"
  }
 },
 "nbformat": 4,
 "nbformat_minor": 5
}
